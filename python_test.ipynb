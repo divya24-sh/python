{
  "nbformat": 4,
  "nbformat_minor": 0,
  "metadata": {
    "colab": {
      "name": "python test.ipynb",
      "provenance": [],
      "authorship_tag": "ABX9TyMPOaZVA/gpGECtjqls87wd",
      "include_colab_link": true
    },
    "kernelspec": {
      "name": "python3",
      "display_name": "Python 3"
    },
    "language_info": {
      "name": "python"
    }
  },
  "cells": [
    {
      "cell_type": "markdown",
      "metadata": {
        "id": "view-in-github",
        "colab_type": "text"
      },
      "source": [
        "<a href=\"https://colab.research.google.com/github/divya24-sh/python/blob/main/python_test.ipynb\" target=\"_parent\"><img src=\"https://colab.research.google.com/assets/colab-badge.svg\" alt=\"Open In Colab\"/></a>"
      ]
    },
    {
      "cell_type": "code",
      "metadata": {
        "id": "KMgYSHrz-rFB"
      },
      "source": [
        "name = \"DIVYA SHARMA\""
      ],
      "execution_count": null,
      "outputs": []
    },
    {
      "cell_type": "code",
      "metadata": {
        "id": "Zys85HUu_ESf"
      },
      "source": [
        "lower_name=name.lower()"
      ],
      "execution_count": null,
      "outputs": []
    },
    {
      "cell_type": "code",
      "metadata": {
        "colab": {
          "base_uri": "https://localhost:8080/",
          "height": 35
        },
        "id": "KSwwJHSD_Go6",
        "outputId": "b2bb3477-fbd6-4492-d061-db9c4748d68d"
      },
      "source": [
        "lower_name"
      ],
      "execution_count": null,
      "outputs": [
        {
          "output_type": "execute_result",
          "data": {
            "application/vnd.google.colaboratory.intrinsic+json": {
              "type": "string"
            },
            "text/plain": [
              "'divya sharma'"
            ]
          },
          "metadata": {
            "tags": []
          },
          "execution_count": 5
        }
      ]
    },
    {
      "cell_type": "code",
      "metadata": {
        "id": "qos2gwt6_HdL",
        "colab": {
          "base_uri": "https://localhost:8080/"
        },
        "outputId": "818e3e16-adac-4649-d12a-171143d3c908"
      },
      "source": [
        "print(\"heyyooo\")"
      ],
      "execution_count": 1,
      "outputs": [
        {
          "output_type": "stream",
          "text": [
            "heyyooo\n"
          ],
          "name": "stdout"
        }
      ]
    },
    {
      "cell_type": "code",
      "metadata": {
        "colab": {
          "base_uri": "https://localhost:8080/"
        },
        "id": "bqNO1MROAu8Q",
        "outputId": "1c178d6d-b1e7-4fff-a0ac-a1fdf4e236ec"
      },
      "source": [
        "a = 33\n",
        "\n",
        "b=88\n",
        "\n",
        "c= (a+b)\n",
        "print(c)"
      ],
      "execution_count": 28,
      "outputs": [
        {
          "output_type": "stream",
          "text": [
            "121\n"
          ],
          "name": "stdout"
        }
      ]
    },
    {
      "cell_type": "code",
      "metadata": {
        "id": "QW30iRO0ENgl"
      },
      "source": [
        "a='ashish','divya','rohit','pagl'"
      ],
      "execution_count": 53,
      "outputs": []
    },
    {
      "cell_type": "code",
      "metadata": {
        "id": "bsj0XwI1ENjT"
      },
      "source": [
        "# output = 'ashishMOJ','divyaMOJ','rohitMOJ','paglMOJ'"
      ],
      "execution_count": 30,
      "outputs": []
    },
    {
      "cell_type": "code",
      "metadata": {
        "id": "-GsdC2EYENl7"
      },
      "source": [
        ""
      ],
      "execution_count": 36,
      "outputs": []
    },
    {
      "cell_type": "code",
      "metadata": {
        "id": "lIlEb3DfFvlx",
        "outputId": "2fc584e7-3dc7-444b-d8d6-1420eee8c2b8",
        "colab": {
          "base_uri": "https://localhost:8080/"
        }
      },
      "source": [
        "\n",
        "\n",
        "for y in a:\n",
        "\n",
        "  # step 1\n",
        "  #y=' divya'\n",
        "  i = y + \"moj\"\n",
        "  print(i)\n",
        "  # i= divyamoj\n",
        "  "
      ],
      "execution_count": 52,
      "outputs": [
        {
          "output_type": "stream",
          "text": [
            "ashishmoj\n",
            "divyamoj\n",
            "rohitmoj\n",
            "paglmoj\n"
          ],
          "name": "stdout"
        }
      ]
    },
    {
      "cell_type": "code",
      "metadata": {
        "id": "zkpyFxWOG5tQ"
      },
      "source": [
        "# c ??"
      ],
      "execution_count": 54,
      "outputs": []
    },
    {
      "cell_type": "code",
      "metadata": {
        "id": "52JD-CXYG5wD",
        "outputId": "d7008a54-6d94-40e3-cfdd-0e3ab97617c2",
        "colab": {
          "base_uri": "https://localhost:8080/"
        }
      },
      "source": [
        "for c in a:\n",
        "  i = c + \" moj\"\n",
        "  print(i)"
      ],
      "execution_count": 58,
      "outputs": [
        {
          "output_type": "stream",
          "text": [
            "ashish moj\n",
            "divya moj\n",
            "rohit moj\n",
            "pagl moj\n"
          ],
          "name": "stdout"
        }
      ]
    },
    {
      "cell_type": "code",
      "metadata": {
        "id": "g37f_55rGJf2",
        "outputId": "0accd457-6c6b-4b5a-c242-7a0f8d41200d",
        "colab": {
          "base_uri": "https://localhost:8080/"
        }
      },
      "source": [
        "print(c)"
      ],
      "execution_count": 59,
      "outputs": [
        {
          "output_type": "stream",
          "text": [
            "pagl\n"
          ],
          "name": "stdout"
        }
      ]
    },
    {
      "cell_type": "code",
      "metadata": {
        "id": "U2WC19GOGnEY",
        "outputId": "24f0368c-d7e5-49a1-b8fb-741965e0ea3f",
        "colab": {
          "base_uri": "https://localhost:8080/"
        }
      },
      "source": [
        "for i in y:\n",
        "  print(i)"
      ],
      "execution_count": 50,
      "outputs": [
        {
          "output_type": "stream",
          "text": [
            "p\n",
            "a\n",
            "g\n",
            "l\n"
          ],
          "name": "stdout"
        }
      ]
    },
    {
      "cell_type": "code",
      "metadata": {
        "id": "MLAW7H1EJGew",
        "outputId": "60a30a68-2b39-4bda-e353-080d3d764319",
        "colab": {
          "base_uri": "https://localhost:8080/"
        }
      },
      "source": [
        "type(c)"
      ],
      "execution_count": 60,
      "outputs": [
        {
          "output_type": "execute_result",
          "data": {
            "text/plain": [
              "str"
            ]
          },
          "metadata": {
            "tags": []
          },
          "execution_count": 60
        }
      ]
    },
    {
      "cell_type": "code",
      "metadata": {
        "id": "PEw2sUjpJGiH"
      },
      "source": [
        "c = []"
      ],
      "execution_count": 63,
      "outputs": []
    },
    {
      "cell_type": "code",
      "metadata": {
        "id": "WI6UiwLhJGqv",
        "outputId": "ec2c349d-ac09-4e5d-edec-feb7cea65eac",
        "colab": {
          "base_uri": "https://localhost:8080/"
        }
      },
      "source": [
        "type(c)"
      ],
      "execution_count": 64,
      "outputs": [
        {
          "output_type": "execute_result",
          "data": {
            "text/plain": [
              "list"
            ]
          },
          "metadata": {
            "tags": []
          },
          "execution_count": 64
        }
      ]
    },
    {
      "cell_type": "code",
      "metadata": {
        "id": "Z3EPL6g2Hohv"
      },
      "source": [
        "c.append(a)"
      ],
      "execution_count": 68,
      "outputs": []
    },
    {
      "cell_type": "code",
      "metadata": {
        "id": "vco6dhjCJrXd",
        "outputId": "cbe4be16-5ddd-4842-c4f2-3d3ddb50e132",
        "colab": {
          "base_uri": "https://localhost:8080/"
        }
      },
      "source": [
        "print(c)"
      ],
      "execution_count": 69,
      "outputs": [
        {
          "output_type": "stream",
          "text": [
            "['pagl moj', ('ashish', 'divya', 'rohit', 'pagl')]\n"
          ],
          "name": "stdout"
        }
      ]
    },
    {
      "cell_type": "code",
      "metadata": {
        "id": "iiQ_8ns_J4XM",
        "outputId": "2541ccbd-3769-4933-e0cf-791a8e9ebb4f",
        "colab": {
          "base_uri": "https://localhost:8080/"
        }
      },
      "source": [
        "print(a)"
      ],
      "execution_count": 70,
      "outputs": [
        {
          "output_type": "stream",
          "text": [
            "('ashish', 'divya', 'rohit', 'pagl')\n"
          ],
          "name": "stdout"
        }
      ]
    },
    {
      "cell_type": "code",
      "metadata": {
        "id": "Ad_xPukXKHfj"
      },
      "source": [
        "a=['ashish', 'divya', 'rohit', 'pagl']"
      ],
      "execution_count": 71,
      "outputs": []
    },
    {
      "cell_type": "code",
      "metadata": {
        "id": "Oa-onNdYKWb4",
        "outputId": "c067393d-2622-4e3e-c9c9-e0cbc86a1a35",
        "colab": {
          "base_uri": "https://localhost:8080/"
        }
      },
      "source": [
        "print(a)"
      ],
      "execution_count": 72,
      "outputs": [
        {
          "output_type": "stream",
          "text": [
            "['ashish', 'divya', 'rohit', 'pagl']\n"
          ],
          "name": "stdout"
        }
      ]
    },
    {
      "cell_type": "code",
      "metadata": {
        "id": "vB6oDDfgKXUb",
        "outputId": "04dc53b7-ce2d-4d16-f1ef-04d000a13fff",
        "colab": {
          "base_uri": "https://localhost:8080/"
        }
      },
      "source": [
        "b=[]\n",
        "print(b)\n",
        "#['ashishmoj', 'divyamoj', 'rohitmoj', 'paglmoj']"
      ],
      "execution_count": 84,
      "outputs": [
        {
          "output_type": "stream",
          "text": [
            "[]\n"
          ],
          "name": "stdout"
        }
      ]
    },
    {
      "cell_type": "code",
      "metadata": {
        "id": "7lQdl2r0Ka4X",
        "outputId": "75009347-62e2-4ae5-afe6-0f3f1433f465",
        "colab": {
          "base_uri": "https://localhost:8080/"
        }
      },
      "source": [
        "for e in a:\n",
        "  print(e)\n",
        "  abc= e+\"MOJ\"\n",
        "  print(abc)\n",
        "  b.append(abc)\n",
        "  print(\"*\"*20)  "
      ],
      "execution_count": 89,
      "outputs": [
        {
          "output_type": "stream",
          "text": [
            "ashish\n",
            "ashishMOJ\n",
            "********************\n",
            "divya\n",
            "divyaMOJ\n",
            "********************\n",
            "rohit\n",
            "rohitMOJ\n",
            "********************\n",
            "pagl\n",
            "paglMOJ\n",
            "********************\n"
          ],
          "name": "stdout"
        }
      ]
    },
    {
      "cell_type": "code",
      "metadata": {
        "id": "b28h3Qd2LCOT",
        "outputId": "5a2d1f9a-e1bc-4236-f7aa-4188bd300b5a",
        "colab": {
          "base_uri": "https://localhost:8080/"
        }
      },
      "source": [
        "print(b)"
      ],
      "execution_count": 90,
      "outputs": [
        {
          "output_type": "stream",
          "text": [
            "['ashishMOJ', 'divyaMOJ', 'rohitMOJ', 'paglMOJ', 'ashishMOJ', 'divyaMOJ', 'rohitMOJ', 'paglMOJ']\n"
          ],
          "name": "stdout"
        }
      ]
    },
    {
      "cell_type": "code",
      "metadata": {
        "id": "VISW-qLoMDAj"
      },
      "source": [
        "b=['ashishMOJ', 'divyaMOJ', 'rohitMOJ', 'paglMOJ']"
      ],
      "execution_count": 96,
      "outputs": []
    },
    {
      "cell_type": "code",
      "metadata": {
        "id": "yEeUuaGkMDDF",
        "outputId": "7f52a9b6-7dc6-4deb-a157-9aa7cec0b5cc",
        "colab": {
          "base_uri": "https://localhost:8080/"
        }
      },
      "source": [
        "print(b)"
      ],
      "execution_count": 92,
      "outputs": [
        {
          "output_type": "stream",
          "text": [
            "['ashishMOJ', 'divyaMOJ', 'rohitMOJ', 'paglMOJ']\n"
          ],
          "name": "stdout"
        }
      ]
    },
    {
      "cell_type": "code",
      "metadata": {
        "id": "jcVYITELL6i0"
      },
      "source": [
        "# b='44535'"
      ],
      "execution_count": 95,
      "outputs": []
    },
    {
      "cell_type": "code",
      "metadata": {
        "id": "gmwbYyj1MNF3",
        "outputId": "e0de1978-888e-4968-8176-0ebcae4c4a32",
        "colab": {
          "base_uri": "https://localhost:8080/"
        }
      },
      "source": [
        "xyz=[]\n",
        "print(xyz)\n",
        "#['ashish', 'divya', 'rohit', 'pagl']"
      ],
      "execution_count": 122,
      "outputs": [
        {
          "output_type": "stream",
          "text": [
            "[]\n"
          ],
          "name": "stdout"
        }
      ]
    },
    {
      "cell_type": "code",
      "metadata": {
        "id": "w3NsimF5MNx3",
        "outputId": "d2feec7c-ce6b-479d-d6fb-eb0380e74e48",
        "colab": {
          "base_uri": "https://localhost:8080/"
        }
      },
      "source": [
        "b"
      ],
      "execution_count": 98,
      "outputs": [
        {
          "output_type": "execute_result",
          "data": {
            "text/plain": [
              "['ashishMOJ', 'divyaMOJ', 'rohitMOJ', 'paglMOJ']"
            ]
          },
          "metadata": {
            "tags": []
          },
          "execution_count": 98
        }
      ]
    },
    {
      "cell_type": "code",
      "metadata": {
        "id": "CwDiUPIyMkQO"
      },
      "source": [
        "a='ashisMOJ'"
      ],
      "execution_count": 100,
      "outputs": []
    },
    {
      "cell_type": "code",
      "metadata": {
        "id": "LENyY_qJM3fX"
      },
      "source": [
        ""
      ],
      "execution_count": 102,
      "outputs": []
    },
    {
      "cell_type": "code",
      "metadata": {
        "id": "nNTyy9RcM_ro",
        "outputId": "636e9601-f6ce-4812-c282-fdb73ef7bb26",
        "colab": {
          "base_uri": "https://localhost:8080/",
          "height": 35
        }
      },
      "source": [
        "a.split(\"MOJ\")[0]"
      ],
      "execution_count": 104,
      "outputs": [
        {
          "output_type": "execute_result",
          "data": {
            "application/vnd.google.colaboratory.intrinsic+json": {
              "type": "string"
            },
            "text/plain": [
              "'ashis'"
            ]
          },
          "metadata": {
            "tags": []
          },
          "execution_count": 104
        }
      ]
    },
    {
      "cell_type": "code",
      "metadata": {
        "id": "jLAsmhkONbXb"
      },
      "source": [
        ""
      ],
      "execution_count": null,
      "outputs": []
    },
    {
      "cell_type": "code",
      "metadata": {
        "id": "aR-JAXpaNbcO",
        "outputId": "35680fe6-66d1-4ed3-b451-90671b2288b2",
        "colab": {
          "base_uri": "https://localhost:8080/"
        }
      },
      "source": [
        "for x in b:\n",
        "  c = x.split('MOJ')\n",
        "  d = c[0]\n",
        "  xyz.append(d)\n",
        "\n",
        "  print(d)"
      ],
      "execution_count": 124,
      "outputs": [
        {
          "output_type": "stream",
          "text": [
            "ashish\n",
            "divya\n",
            "rohit\n",
            "pagl\n"
          ],
          "name": "stdout"
        }
      ]
    },
    {
      "cell_type": "code",
      "metadata": {
        "id": "W_GMw7vqPijN",
        "outputId": "8ffdd612-6da0-45a4-9db4-b525847fb2be",
        "colab": {
          "base_uri": "https://localhost:8080/"
        }
      },
      "source": [
        "b"
      ],
      "execution_count": 126,
      "outputs": [
        {
          "output_type": "execute_result",
          "data": {
            "text/plain": [
              "['ashishMOJ', 'divyaMOJ', 'rohitMOJ', 'paglMOJ']"
            ]
          },
          "metadata": {
            "tags": []
          },
          "execution_count": 126
        }
      ]
    },
    {
      "cell_type": "code",
      "metadata": {
        "id": "bocPB5mcPimH"
      },
      "source": [
        ""
      ],
      "execution_count": null,
      "outputs": []
    },
    {
      "cell_type": "code",
      "metadata": {
        "id": "3a1_G-taQTwB"
      },
      "source": [
        ""
      ],
      "execution_count": null,
      "outputs": []
    },
    {
      "cell_type": "code",
      "metadata": {
        "id": "eYwDLyXPQTzH"
      },
      "source": [
        ""
      ],
      "execution_count": null,
      "outputs": []
    },
    {
      "cell_type": "code",
      "metadata": {
        "id": "xe-k0JmaQT2a"
      },
      "source": [
        ""
      ],
      "execution_count": null,
      "outputs": []
    },
    {
      "cell_type": "code",
      "metadata": {
        "id": "EW7BU3M9QT5V"
      },
      "source": [
        ""
      ],
      "execution_count": null,
      "outputs": []
    },
    {
      "cell_type": "code",
      "metadata": {
        "id": "QAWQGI67QT8h"
      },
      "source": [
        ""
      ],
      "execution_count": null,
      "outputs": []
    },
    {
      "cell_type": "code",
      "metadata": {
        "id": "r-iVxe1_QT_y"
      },
      "source": [
        ""
      ],
      "execution_count": null,
      "outputs": []
    },
    {
      "cell_type": "code",
      "metadata": {
        "id": "6W9HfNOqQUDZ"
      },
      "source": [
        ""
      ],
      "execution_count": null,
      "outputs": []
    },
    {
      "cell_type": "code",
      "metadata": {
        "id": "h-nPDxEUQUGC"
      },
      "source": [
        ""
      ],
      "execution_count": null,
      "outputs": []
    },
    {
      "cell_type": "code",
      "metadata": {
        "id": "RDI0SkFNPioh"
      },
      "source": [
        ""
      ],
      "execution_count": null,
      "outputs": []
    },
    {
      "cell_type": "code",
      "metadata": {
        "id": "c2TcD_pwNE6g",
        "outputId": "1bc777fc-caaf-417d-e4db-a3686b1c3b2d",
        "colab": {
          "base_uri": "https://localhost:8080/"
        }
      },
      "source": [
        "xyz"
      ],
      "execution_count": 125,
      "outputs": [
        {
          "output_type": "execute_result",
          "data": {
            "text/plain": [
              "['ashish', 'divya', 'rohit', 'pagl']"
            ]
          },
          "metadata": {
            "tags": []
          },
          "execution_count": 125
        }
      ]
    },
    {
      "cell_type": "code",
      "metadata": {
        "id": "_U0wow_JNW9A",
        "outputId": "c1887aa7-9aad-4ef2-edfe-a907b7500002",
        "colab": {
          "base_uri": "https://localhost:8080/"
        }
      },
      "source": [
        "type(c)"
      ],
      "execution_count": 115,
      "outputs": [
        {
          "output_type": "execute_result",
          "data": {
            "text/plain": [
              "list"
            ]
          },
          "metadata": {
            "tags": []
          },
          "execution_count": 115
        }
      ]
    },
    {
      "cell_type": "code",
      "metadata": {
        "id": "ayJhlZiWNZ0m",
        "outputId": "88dbaa20-9907-4971-8321-7f06439adf2b",
        "colab": {
          "base_uri": "https://localhost:8080/"
        }
      },
      "source": [
        "len(c)"
      ],
      "execution_count": 116,
      "outputs": [
        {
          "output_type": "execute_result",
          "data": {
            "text/plain": [
              "2"
            ]
          },
          "metadata": {
            "tags": []
          },
          "execution_count": 116
        }
      ]
    },
    {
      "cell_type": "code",
      "metadata": {
        "id": "YeJWlPBEO0Pc",
        "outputId": "91f14118-86cb-4d54-8eed-8f440c64611c",
        "colab": {
          "base_uri": "https://localhost:8080/",
          "height": 35
        }
      },
      "source": [
        "c[0]"
      ],
      "execution_count": 120,
      "outputs": [
        {
          "output_type": "execute_result",
          "data": {
            "application/vnd.google.colaboratory.intrinsic+json": {
              "type": "string"
            },
            "text/plain": [
              "'pagl'"
            ]
          },
          "metadata": {
            "tags": []
          },
          "execution_count": 120
        }
      ]
    },
    {
      "cell_type": "code",
      "metadata": {
        "id": "BAGgZGQcO4x1",
        "outputId": "4e2dfca5-b234-4465-a961-0519c6b5c173",
        "colab": {
          "base_uri": "https://localhost:8080/",
          "height": 35
        }
      },
      "source": [
        "a"
      ],
      "execution_count": 127,
      "outputs": [
        {
          "output_type": "execute_result",
          "data": {
            "application/vnd.google.colaboratory.intrinsic+json": {
              "type": "string"
            },
            "text/plain": [
              "'ashisMOJ'"
            ]
          },
          "metadata": {
            "tags": []
          },
          "execution_count": 127
        }
      ]
    },
    {
      "cell_type": "code",
      "metadata": {
        "id": "G1DQA_4BQVfh",
        "outputId": "6be24814-127a-4dc6-bfe4-bc4941a811cf",
        "colab": {
          "base_uri": "https://localhost:8080/"
        }
      },
      "source": [
        "xyz\n"
      ],
      "execution_count": 128,
      "outputs": [
        {
          "output_type": "execute_result",
          "data": {
            "text/plain": [
              "['ashish', 'divya', 'rohit', 'pagl']"
            ]
          },
          "metadata": {
            "tags": []
          },
          "execution_count": 128
        }
      ]
    },
    {
      "cell_type": "code",
      "metadata": {
        "id": "XsNQMUGnQVi5"
      },
      "source": [
        ""
      ],
      "execution_count": null,
      "outputs": []
    },
    {
      "cell_type": "code",
      "metadata": {
        "id": "AJ5xu1oEQVnk"
      },
      "source": [
        "a=\"ashish\""
      ],
      "execution_count": 129,
      "outputs": []
    },
    {
      "cell_type": "code",
      "metadata": {
        "id": "7XkFk59dQVqU",
        "outputId": "1c32b7bf-9a83-4e62-b9d0-9e60c5a97916",
        "colab": {
          "base_uri": "https://localhost:8080/",
          "height": 35
        }
      },
      "source": [
        "a.upper()"
      ],
      "execution_count": 130,
      "outputs": [
        {
          "output_type": "execute_result",
          "data": {
            "application/vnd.google.colaboratory.intrinsic+json": {
              "type": "string"
            },
            "text/plain": [
              "'ASHISH'"
            ]
          },
          "metadata": {
            "tags": []
          },
          "execution_count": 130
        }
      ]
    },
    {
      "cell_type": "code",
      "metadata": {
        "id": "z-23dcbKQVuf",
        "outputId": "639d61a5-b0a9-45cb-e9af-24fc300314f9",
        "colab": {
          "base_uri": "https://localhost:8080/"
        }
      },
      "source": [
        "print(xyz)\n",
        "print(\"******************POGRAME START***********\\n \")\n",
        "\n",
        "j = []\n",
        "\n",
        "for g in xyz:\n",
        "\n",
        "  d = g.upper()\n",
        "\n",
        "  print(d)\n",
        "  \n",
        "  f=d.title()\n",
        "\n",
        "  ss=f[0:2]\n",
        "  \n",
        "  j.append(ss)\n",
        "\n",
        "print(\"\\n (((((((((((((((((PROGRAME END OUTPUT ((((((((((((((((((((((((\")\n",
        "\n",
        "\n",
        "print(j)"
      ],
      "execution_count": 163,
      "outputs": [
        {
          "output_type": "stream",
          "text": [
            "['ashish', 'divya', 'rohit', 'pagl']\n",
            "******************POGRAME START***********\n",
            " \n",
            "ASHISH\n",
            "DIVYA\n",
            "ROHIT\n",
            "PAGL\n",
            "\n",
            " (((((((((((((((((PROGRAME END OUTPUT ((((((((((((((((((((((((\n",
            "['As', 'Di', 'Ro', 'Pa']\n"
          ],
          "name": "stdout"
        }
      ]
    },
    {
      "cell_type": "code",
      "metadata": {
        "id": "fr1VVZo3QVw_",
        "outputId": "4ae7654f-b783-4c5c-c830-30b72e7da6de",
        "colab": {
          "base_uri": "https://localhost:8080/",
          "height": 35
        }
      },
      "source": [
        "\"ASHISH\"[0:2]"
      ],
      "execution_count": 166,
      "outputs": [
        {
          "output_type": "execute_result",
          "data": {
            "application/vnd.google.colaboratory.intrinsic+json": {
              "type": "string"
            },
            "text/plain": [
              "'AS'"
            ]
          },
          "metadata": {
            "tags": []
          },
          "execution_count": 166
        }
      ]
    },
    {
      "cell_type": "code",
      "metadata": {
        "id": "1AvHg1dOQV05",
        "outputId": "2add1967-b08f-4373-fbe3-7b93aea0e862",
        "colab": {
          "base_uri": "https://localhost:8080/"
        }
      },
      "source": [
        "xyz"
      ],
      "execution_count": 143,
      "outputs": [
        {
          "output_type": "execute_result",
          "data": {
            "text/plain": [
              "['ashish', 'divya', 'rohit', 'pagl']"
            ]
          },
          "metadata": {
            "tags": []
          },
          "execution_count": 143
        }
      ]
    },
    {
      "cell_type": "code",
      "metadata": {
        "id": "_2TXTgwyQV31"
      },
      "source": [
        ""
      ],
      "execution_count": null,
      "outputs": []
    },
    {
      "cell_type": "code",
      "metadata": {
        "id": "J2qjNZ8FQV7W"
      },
      "source": [
        ""
      ],
      "execution_count": null,
      "outputs": []
    },
    {
      "cell_type": "code",
      "metadata": {
        "id": "Uzm18A6fQV-o"
      },
      "source": [
        ""
      ],
      "execution_count": null,
      "outputs": []
    },
    {
      "cell_type": "code",
      "metadata": {
        "id": "43ifIWPVQWCg"
      },
      "source": [
        ""
      ],
      "execution_count": null,
      "outputs": []
    }
  ]
}